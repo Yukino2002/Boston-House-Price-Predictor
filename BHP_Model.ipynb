{
 "cells": [
  {
   "cell_type": "code",
   "execution_count": 169,
   "metadata": {},
   "outputs": [],
   "source": [
    "from sklearn.model_selection import train_test_split\n",
    "import pandas as pd\n",
    "import numpy as np\n",
    "import random\n",
    "\n",
    "boston = pd.read_csv('Data_Set/housing.csv')\n",
    "feature_names = ['crim', 'zn', 'indus', 'chas', 'nox', 'rm', 'age', 'dis', 'rad', 'tax', 'ptratio', 'black', 'lstat', 'medv']"
   ]
  },
  {
   "cell_type": "code",
   "execution_count": 170,
   "metadata": {},
   "outputs": [
    {
     "name": "stdout",
     "output_type": "stream",
     "text": [
      "Features with high correlation to the housing prices:\n",
      "rm\n",
      "ptratio\n",
      "lstat\n"
     ]
    }
   ],
   "source": [
    "# data cleaning, analysing and removing noise from our model using correlation matrix\n",
    "\n",
    "boston_frame = pd.DataFrame(boston, columns = feature_names)\n",
    "correlation_matirx = boston_frame.corr()\n",
    "\n",
    "# sourceFile = open('Correlation_Matrix.txt', 'w')\n",
    "# print(correlation_matirx, file = sourceFile)\n",
    "# sourceFile.close()\n",
    "\n",
    "correlation_matirx = np.array(correlation_matirx, dtype = 'float32')\n",
    "\n",
    "print(\"Features with high correlation to the housing prices:\")\n",
    "irrelevant_features = []\n",
    "\n",
    "for i in range(len(feature_names) - 1):\n",
    "    if(abs(correlation_matirx[13][i]) > 0.5):\n",
    "        print(feature_names[i])\n",
    "    \n",
    "    else:\n",
    "        irrelevant_features.append(i)"
   ]
  },
  {
   "cell_type": "code",
   "execution_count": 171,
   "metadata": {},
   "outputs": [],
   "source": [
    "# splitting the dataset into two parts for training and testing randomly in a ratio of 80:20\n",
    "\n",
    "boston_data = np.array(boston_frame, dtype = 'float32')\n",
    "\n",
    "boston_data = np.delete(boston_data, (irrelevant_features), 1)\n",
    "features = boston_data[:, :-1]\n",
    "prices = boston_data[:, -1]\n",
    "\n",
    "x_train, x_test, y_train, y_test = train_test_split(features, prices, test_size = 0.2, random_state = 42)\n",
    "\n",
    "# m = number of training examples, n = number of features\n",
    "m = len(y_train)\n",
    "n = 13 - len(irrelevant_features)"
   ]
  },
  {
   "cell_type": "code",
   "execution_count": 172,
   "metadata": {},
   "outputs": [],
   "source": [
    "# preprocessing the data through feature scaling\n",
    "\n",
    "def normalize(x):\n",
    "    return (x - x.mean(axis = 0)) / x.std(axis = 0)\n",
    "\n",
    "x_train = normalize(x_train)\n",
    "y_train = normalize(y_train)\n",
    "x_test = normalize(x_test)\n",
    "y_test = normalize(y_test)"
   ]
  },
  {
   "cell_type": "code",
   "execution_count": 173,
   "metadata": {},
   "outputs": [],
   "source": [
    "# cost function and gradient descent functions\n",
    "\n",
    "def error(theta, x, y):\n",
    "    cost = 0\n",
    "\n",
    "    for i in range(m):\n",
    "        temp = 0\n",
    "        for j in range(n + 1):\n",
    "            if j == 0:\n",
    "                temp += theta[j]\n",
    "            else:\n",
    "                temp += (theta[j] * x[i][j - 1])\n",
    "\n",
    "        cost += ((temp - y[i]) ** 2)\n",
    "\n",
    "    return cost / (2 * m)\n",
    "\n",
    "def gradient_descent(alpha, theta, x, y):\n",
    "    temp = np.zeros(n + 1)\n",
    "\n",
    "    for i in range(m):\n",
    "        derivation = 0\n",
    "        for j in range(n + 1):\n",
    "            if j == 0:\n",
    "                derivation += theta[j]\n",
    "            else:\n",
    "                derivation += (theta[j] * x[i][j - 1])\n",
    "\n",
    "        derivation = (derivation - y[i])\n",
    "\n",
    "        for j in range(n + 1):\n",
    "            if j == 0:\n",
    "                temp[j] += derivation\n",
    "            else:\n",
    "                temp[j] += (derivation * x[i][j - 1])\n",
    "\n",
    "    temp = alpha * temp / m\n",
    "    theta -= temp\n",
    "\n",
    "    return theta"
   ]
  },
  {
   "cell_type": "code",
   "execution_count": 174,
   "metadata": {},
   "outputs": [
    {
     "name": "stdout",
     "output_type": "stream",
     "text": [
      "[0.470104217474101, 0.6663865885046723, 0.40509443826156954, 0.16133278103094495]\n",
      "0.6369884554773138\n",
      "0.3541147578510286\n",
      "0.26263342051229566\n",
      "0.22243486652474895\n",
      "0.20056780548433983\n",
      "0.1872265723807716\n",
      "0.17855691565440973\n",
      "0.17268533339859352\n",
      "0.16858325912221414\n",
      "0.16564601308271237\n",
      "0.16350124681582054\n",
      "0.16191082115831248\n",
      "0.16071722887614862\n",
      "0.1598131247980958\n",
      "0.15912341303937627\n",
      "0.15859438046083846\n",
      "0.15818689679701878\n",
      "0.15787202818496715\n",
      "0.15762812437983004\n",
      "0.15743883220341984\n",
      "0.1572917079741396\n",
      "0.15717722801025794\n",
      "0.15708807048260082\n",
      "0.15701858651824568\n",
      "0.15696440598079023\n",
      "0.15692214076382435\n",
      "0.15688915972756534\n",
      "0.15686341691366032\n",
      "0.15684331977636565\n",
      "0.15682762771262468\n",
      "0.1568153736826821\n",
      "0.1568058035194136\n",
      "0.15679832884440936\n",
      "0.15679249048523025\n",
      "0.15678793001815564\n",
      "0.15678436761108996\n",
      "0.15678158475926599\n",
      "0.15677941082560065\n",
      "0.1567777125425353\n",
      "0.15677638582086528\n",
      "0.1567753493568267\n",
      "0.15677453964157323\n",
      "0.1567739070647426\n",
      "0.15677341287184413\n",
      "0.15677302678812088\n",
      "0.15677272516274438\n",
      "0.15677248951930448\n",
      "0.156772305423586\n",
      "0.15677216159914442\n",
      "0.15677204923642712\n"
     ]
    }
   ],
   "source": [
    "theta = []\n",
    "alpha = 0.3\n",
    "iterations = 50\n",
    "\n",
    "for _ in range(n + 1):\n",
    "    theta.append(random.random())\n",
    "\n",
    "print(theta)\n",
    "\n",
    "for _ in range(iterations):\n",
    "    print(error(theta, x_train, y_train))\n",
    "    theta = gradient_descent(alpha, theta, x_train, y_train)\n",
    "\n"
   ]
  },
  {
   "cell_type": "code",
   "execution_count": 175,
   "metadata": {},
   "outputs": [],
   "source": [
    "# for i in range(m):\n",
    "#     print(w0 + w1*x_test[i][0] + w2*x_test[i][1] + w3*x_test[i][2], y_test[i])\n"
   ]
  }
 ],
 "metadata": {
  "interpreter": {
   "hash": "c2f2c10e8b0c6806d9d04e8d3a17761b4c554a55a9bbe8b591472136559041bf"
  },
  "kernelspec": {
   "display_name": "Python 3.9.8 64-bit",
   "language": "python",
   "name": "python3"
  },
  "language_info": {
   "codemirror_mode": {
    "name": "ipython",
    "version": 3
   },
   "file_extension": ".py",
   "mimetype": "text/x-python",
   "name": "python",
   "nbconvert_exporter": "python",
   "pygments_lexer": "ipython3",
   "version": "3.9.8"
  },
  "orig_nbformat": 4
 },
 "nbformat": 4,
 "nbformat_minor": 2
}
