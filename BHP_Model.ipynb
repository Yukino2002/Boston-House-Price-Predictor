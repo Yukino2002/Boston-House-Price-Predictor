{
 "cells": [
  {
   "cell_type": "code",
   "execution_count": 101,
   "metadata": {},
   "outputs": [],
   "source": [
    "import pandas as pd\n",
    "import numpy as np\n",
    "import random\n",
    "\n",
    "boston = pd.read_csv('Data_Set/housing.csv')\n",
    "features = ['crim', 'zn', 'indus', 'chas', 'nox', 'rm', 'age', 'dis', 'rad', 'tax', 'ptratio', 'black', 'lstat', 'medv']"
   ]
  },
  {
   "cell_type": "code",
   "execution_count": 102,
   "metadata": {},
   "outputs": [
    {
     "data": {
      "image/png": "[encoded data removed]",
      "text/plain": [
       "<Figure size 432x288 with 2 Axes>"
      ]
     },
     "metadata": {
      "needs_background": "light"
     },
     "output_type": "display_data"
    },
    {
     "name": "stdout",
     "output_type": "stream",
     "text": [
      "Features with high correlation to the housing prices:\n",
      "indus\n",
      "nox\n",
      "rm\n",
      "tax\n",
      "ptratio\n",
      "lstat\n"
     ]
    }
   ],
   "source": [
    "# data cleaning, analysing and removing noise from our model using correlation matrix\n",
    "import matplotlib.pyplot as plt\n",
    "import seaborn as sb\n",
    "\n",
    "boston_frame = pd.DataFrame(boston, columns = features)\n",
    "correlation_matrix = boston_frame.corr()\n",
    "\n",
    "# plotting the correlation matrix\n",
    "dataplot = sb.heatmap(correlation_matrix, cmap = \"YlGnBu\", annot = False)\n",
    "dataplot.set_title('Correlation Matrix')\n",
    "plt.show()\n",
    "\n",
    "# sourceFile = open('Correlation_Matrix.txt', 'w')\n",
    "# print(correlation_matirx, file = sourceFile)\n",
    "# sourceFile.close()\n",
    "\n",
    "correlation_matirx = np.array(correlation_matrix, dtype = 'float32')\n",
    "\n",
    "print(\"Features with high correlation to the housing prices:\")\n",
    "lessCorrelated_features = []\n",
    "\n",
    "for i in range(len(features) - 1):\n",
    "    if(abs(correlation_matirx[13][i]) > 0.4):\n",
    "        print(features[i])\n",
    "    \n",
    "    else:\n",
    "        lessCorrelated_features.append(i)"
   ]
  },
  {
   "cell_type": "code",
   "execution_count": 103,
   "metadata": {},
   "outputs": [],
   "source": [
    "# splitting the dataset into two parts for training and testing randomly in a ratio of 80:20\n",
    "from sklearn.model_selection import train_test_split\n",
    "\n",
    "boston_data = np.array(boston_frame, dtype = 'float32')\n",
    "censored_data = []\n",
    "boston_data = np.delete(boston_data, (lessCorrelated_features), 1)\n",
    "for i in range(len(boston_data) - 13):\n",
    "    if boston_data[i, -1] == 50:\n",
    "        censored_data.append(i)\n",
    "\n",
    "boston_data = np.delete(boston_data, (censored_data), 0)\n",
    "features = boston_data[:, :-1]\n",
    "prices = boston_data[:, -1]\n",
    "\n",
    "x_train, x_test, y_train, y_test = train_test_split(features, prices, test_size = 0.2, random_state = 42)"
   ]
  },
  {
   "cell_type": "code",
   "execution_count": 104,
   "metadata": {},
   "outputs": [],
   "source": [
    "# standardizing the data through feature scaling\n",
    "def standardize(x):\n",
    "    return (x - x.mean(axis = 0)) / x.std(axis = 0)\n",
    "\n",
    "x_train = standardize(x_train)\n",
    "y_train = standardize(y_train)\n",
    "x_test = standardize(x_test)\n",
    "y_test = standardize(y_test)"
   ]
  },
  {
   "cell_type": "code",
   "execution_count": 105,
   "metadata": {},
   "outputs": [],
   "source": [
    "# cost function and gradient descent functions\n",
    "\n",
    "def error(num, theta, x, y):\n",
    "    cost = 0\n",
    "\n",
    "    for i in range(num):\n",
    "        temp = 0\n",
    "        for j in range(n + 1):\n",
    "            if j == 0:\n",
    "                temp += theta[j]\n",
    "            else:\n",
    "                temp += (theta[j] * x[i][j - 1])\n",
    "\n",
    "        cost += ((temp - y[i]) ** 2)\n",
    "\n",
    "    return cost / (2 * num)\n",
    "\n",
    "def gradient_descent(alpha, theta, x, y):\n",
    "    temp = np.zeros(n + 1)\n",
    "\n",
    "    for i in range(m):\n",
    "        derivation = 0\n",
    "        for j in range(n + 1):\n",
    "            if j == 0:\n",
    "                derivation += theta[j]\n",
    "            else:\n",
    "                derivation += (theta[j] * x[i][j - 1])\n",
    "\n",
    "        derivation = (derivation - y[i])\n",
    "\n",
    "        for j in range(n + 1):\n",
    "            if j == 0:\n",
    "                temp[j] += derivation\n",
    "            else:\n",
    "                temp[j] += (derivation * x[i][j - 1])\n",
    "\n",
    "    temp = alpha * temp / m\n",
    "    theta -= temp\n",
    "\n",
    "    return theta"
   ]
  },
  {
   "cell_type": "code",
   "execution_count": 106,
   "metadata": {},
   "outputs": [],
   "source": [
    "theta = []\n",
    "alpha = 0.3\n",
    "iterations = 75\n",
    "# m = number of training examples, n = number of features\n",
    "m = len(y_train)\n",
    "n = 13 - len(lessCorrelated_features)\n",
    "\n",
    "for _ in range(n + 1):\n",
    "    theta.append(random.random())\n",
    "\n",
    "for _ in range(iterations):\n",
    "    theta = gradient_descent(alpha, theta, x_train, y_train)"
   ]
  },
  {
   "cell_type": "code",
   "execution_count": 107,
   "metadata": {},
   "outputs": [
    {
     "name": "stdout",
     "output_type": "stream",
     "text": [
      "0.1404463925182932\n"
     ]
    }
   ],
   "source": [
    "print(error(len(y_test), theta, x_test, y_test))"
   ]
  },
  {
   "cell_type": "code",
   "execution_count": 108,
   "metadata": {},
   "outputs": [
    {
     "name": "stdout",
     "output_type": "stream",
     "text": [
      "-0.7510988398508058 [-0.7509763]\n",
      "0.5594941317331688 [0.55938053]\n",
      "-0.24075289302222888 [-0.24100713]\n",
      "-1.4269416231330507 [-1.4270666]\n",
      "-1.1392500785100146 [-1.1393248]\n",
      "-0.1591035293946212 [-0.15888497]\n",
      "-0.9255426288328743 [-0.92612183]\n",
      "1.7388804037680892 [1.7384518]\n",
      "-0.47887950316368666 [-0.47855648]\n",
      "1.013113232114646 [1.0131449]\n",
      "0.257086753364212 [0.2568863]\n",
      "-0.2952730122774546 [-0.296268]\n",
      "-1.6244626064282084 [-1.6253701]\n",
      "-0.8662493209226896 [-0.86683965]\n",
      "-0.5945361192929828 [-0.5952073]\n",
      "0.5975249438602933 [0.5974783]\n",
      "-0.5213879733804863 [-0.52135086]\n",
      "-0.5068095730330662 [-0.5066067]\n",
      "-0.07985570485519244 [-0.08029429]\n",
      "0.03707186531070536 [0.03658489]\n",
      "0.17138499863757065 [0.17121568]\n",
      "0.3450070092375575 [0.34480587]\n",
      "-1.073720029293665 [-1.073642]\n",
      "1.4572399233763074 [1.4569068]\n",
      "0.22006667442425215 [0.21989231]\n",
      "0.22242089709656665 [0.22247334]\n",
      "0.3056429800985536 [0.3057453]\n",
      "1.29863951459147 [1.2986814]\n",
      "1.651919128791568 [1.6518463]\n",
      "-0.9895411690705562 [-0.98930043]\n",
      "0.4841044909770777 [0.48403504]\n",
      "-0.9680476159773995 [-0.96958935]\n",
      "0.6404735701057349 [0.6406879]\n",
      "0.5071911543704484 [0.5073846]\n",
      "-0.7104633765094391 [-0.7107119]\n",
      "0.44733700688408357 [0.44734934]\n",
      "1.255128950703694 [1.2555971]\n",
      "0.4607711782472251 [0.46085763]\n",
      "1.4910671369293866 [1.4908116]\n",
      "1.284295013004357 [1.2845579]\n",
      "-0.47299976167796587 [-0.473703]\n",
      "-0.26509718593138476 [-0.2657327]\n",
      "-0.9209074661544798 [-0.9212624]\n",
      "0.00867523863389541 [0.00902255]\n",
      "-0.22855349142967704 [-0.22827141]\n",
      "0.9426459587675149 [0.9432138]\n",
      "-0.5144611575326608 [-0.51403207]\n",
      "-0.45672861259665676 [-0.45657554]\n",
      "-0.15298090357714825 [-0.1529221]\n",
      "-0.28621822029845356 [-0.28597787]\n",
      "-0.48710934602789324 [-0.487254]\n",
      "0.9962225248617631 [0.9964051]\n",
      "0.8691112023259466 [0.869541]\n",
      "-0.0341587974127362 [-0.03386952]\n",
      "0.3252206717895493 [0.32531437]\n",
      "0.44088427908003763 [0.44117656]\n",
      "-0.5943259657557701 [-0.5943398]\n",
      "0.6184236677558747 [0.61844504]\n",
      "0.10115733102198385 [0.10132216]\n",
      "-0.9735929085878563 [-0.97382736]\n",
      "0.30528367491564956 [0.30491823]\n",
      "-0.5346175756268391 [-0.5344035]\n",
      "0.6222507874033484 [0.62191117]\n",
      "0.26009512289328357 [0.26038548]\n",
      "0.9015675346237252 [0.9015745]\n",
      "2.1567877322558306 [2.1563578]\n",
      "0.679697717994012 [0.67977196]\n",
      "0.7459722141474471 [0.7457857]\n",
      "-1.3389335639278914 [-1.3383965]\n",
      "-0.43554768065036553 [-0.43477932]\n",
      "-0.4601801628962934 [-0.46024722]\n",
      "-0.14277355246007678 [-0.14276393]\n",
      "-0.01544202063571893 [-0.01523608]\n",
      "-0.1159224264704811 [-0.11549585]\n",
      "-0.7631871946094306 [-0.76326555]\n",
      "0.11783255273897145 [0.11816106]\n",
      "0.21244522811616026 [0.21266247]\n",
      "0.019733544890662126 [0.01960836]\n",
      "0.5775225166082428 [0.5777092]\n",
      "-0.17608273000837954 [-0.17636773]\n",
      "0.5124417604544547 [0.5125591]\n",
      "0.9281361658724336 [0.9280623]\n",
      "-2.161936122893115 [-2.1608598]\n",
      "-0.9067897297597154 [-0.90679866]\n",
      "0.20727007786718465 [0.20771122]\n",
      "0.8200050540569661 [0.8204602]\n",
      "0.15662454030877337 [0.15652871]\n",
      "0.3831045038927859 [0.383155]\n",
      "-0.7719656642490447 [-0.772481]\n",
      "-0.11014468560729801 [-0.10973766]\n",
      "0.22872958168151303 [0.2286214]\n",
      "-0.7152959337099238 [-0.714883]\n",
      "-0.3240143397489329 [-0.323745]\n",
      "0.282283361620974 [0.2829873]\n",
      "-1.7365555560420627 [-1.7362428]\n",
      "0.8778699239863219 [0.8782945]\n",
      "0.35320744804418414 [0.35296196]\n",
      "-2.6486204210089017 [-2.6488085]\n"
     ]
    }
   ],
   "source": [
    "from sklearn.linear_model import LinearRegression\n",
    "model = LinearRegression()\n",
    "model.fit(x_train, y_train)\n",
    "\n",
    "for i in range(len(y_test)):\n",
    "    price = 0\n",
    "    for j in range(n + 1):\n",
    "        if j == 0:\n",
    "            price += theta[j]\n",
    "        else:\n",
    "            price += (theta[j] * x_test[i][j - 1])\n",
    "    \n",
    "    print(price, model.predict(x_test[i].reshape(1, -1)))"
   ]
  }
 ],
 "metadata": {
  "interpreter": {
   "hash": "c2f2c10e8b0c6806d9d04e8d3a17761b4c554a55a9bbe8b591472136559041bf"
  },
  "kernelspec": {
   "display_name": "Python 3.9.8 64-bit",
   "language": "python",
   "name": "python3"
  },
  "language_info": {
   "codemirror_mode": {
    "name": "ipython",
    "version": 3
   },
   "file_extension": ".py",
   "mimetype": "text/x-python",
   "name": "python",
   "nbconvert_exporter": "python",
   "pygments_lexer": "ipython3",
   "version": "3.9.8"
  },
  "orig_nbformat": 4
 },
 "nbformat": 4,
 "nbformat_minor": 2
}
