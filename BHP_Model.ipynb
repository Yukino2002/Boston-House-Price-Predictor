{
 "cells": [
  {
   "cell_type": "code",
   "execution_count": 151,
   "metadata": {},
   "outputs": [],
   "source": [
    "import pandas as pd\n",
    "import numpy as np\n",
    "import random\n",
    "\n",
    "boston = pd.read_csv('Data_Set/housing.csv')\n",
    "features = ['crim', 'zn', 'indus', 'chas', 'nox', 'rm', 'age', 'dis', 'rad', 'tax', 'ptratio', 'black', 'lstat', 'medv']"
   ]
  },
  {
   "cell_type": "code",
   "execution_count": 152,
   "metadata": {},
   "outputs": [
    {
     "data": {
      "image/png": "[encoded data removed]",
      "text/plain": [
       "<Figure size 432x288 with 2 Axes>"
      ]
     },
     "metadata": {
      "needs_background": "light"
     },
     "output_type": "display_data"
    },
    {
     "name": "stdout",
     "output_type": "stream",
     "text": [
      "Features with high correlation to the housing prices:\n",
      "indus\n",
      "nox\n",
      "rm\n",
      "tax\n",
      "ptratio\n",
      "lstat\n"
     ]
    }
   ],
   "source": [
    "# data cleaning, analysing and removing noise from our model using correlation matrix\n",
    "import matplotlib.pyplot as plt\n",
    "import seaborn as sb\n",
    "\n",
    "boston_frame = pd.DataFrame(boston, columns = features)\n",
    "correlation_matrix = boston_frame.corr()\n",
    "\n",
    "# plotting the correlation matrix\n",
    "dataplot = sb.heatmap(correlation_matrix, cmap = \"YlGnBu\", annot = False)\n",
    "dataplot.set_title('Correlation Matrix')\n",
    "plt.show()\n",
    "\n",
    "# sourceFile = open('Correlation_Matrix.txt', 'w')\n",
    "# print(correlation_matirx, file = sourceFile)\n",
    "# sourceFile.close()\n",
    "\n",
    "correlation_matirx = np.array(correlation_matrix, dtype = 'float32')\n",
    "\n",
    "# finding the more correlated features with the target variable\n",
    "print(\"Features with high correlation to the housing prices:\")\n",
    "\n",
    "lessCorrelated_features = []\n",
    "for i in range(len(features) - 1):\n",
    "    if(abs(correlation_matirx[13][i]) > 0.4):\n",
    "        print(features[i])\n",
    "    \n",
    "    else:\n",
    "        lessCorrelated_features.append(i)"
   ]
  },
  {
   "cell_type": "code",
   "execution_count": 153,
   "metadata": {},
   "outputs": [],
   "source": [
    "from sklearn.model_selection import train_test_split\n",
    "\n",
    "# removing the columns associated with less correlated features\n",
    "boston_data = np.array(boston_frame, dtype = 'float32')\n",
    "boston_data = np.delete(boston_data, (lessCorrelated_features), 1)\n",
    "\n",
    "# removing random outliers from the dataset, that is, the outliers with high values of 'medv'\n",
    "censored_data = []\n",
    "for i in range(len(boston_data) - 13):\n",
    "    if boston_data[i, -1] == 50:\n",
    "        censored_data.append(i)\n",
    "boston_data = np.delete(boston_data, (censored_data), 0)\n",
    "\n",
    "# separating the features and the target variable\n",
    "features = boston_data[:, :-1]\n",
    "prices = boston_data[:, -1]\n",
    "\n",
    "# splitting the dataset into training and testing sets\n",
    "x_train, x_test, y_train, y_test = train_test_split(features, prices, test_size = 0.2, random_state = 42)"
   ]
  },
  {
   "cell_type": "code",
   "execution_count": 154,
   "metadata": {},
   "outputs": [],
   "source": [
    "# standardizing the data through feature scaling, mean and standard deviation\n",
    "def standardize(x):\n",
    "    return (x - x.mean(axis = 0)) / x.std(axis = 0)\n",
    "\n",
    "x_train = standardize(x_train)\n",
    "y_train = standardize(y_train)\n",
    "x_test = standardize(x_test)\n",
    "y_test = standardize(y_test)"
   ]
  },
  {
   "cell_type": "code",
   "execution_count": 155,
   "metadata": {},
   "outputs": [],
   "source": [
    "# cost function and gradient descent functions\n",
    "def error(m, n, theta, x, y):\n",
    "    cost = 0\n",
    "\n",
    "    for i in range(m):\n",
    "        temp = 0\n",
    "        for j in range(n + 1):\n",
    "            if j == 0:\n",
    "                temp += theta[j]\n",
    "            else:\n",
    "                temp += (theta[j] * x[i][j - 1])\n",
    "\n",
    "        cost += ((temp - y[i]) ** 2)\n",
    "\n",
    "    return cost / (2 * m)\n",
    "\n",
    "def gradient_descent(m, n, alpha, theta, x, y):\n",
    "    temp = np.zeros(n + 1)\n",
    "\n",
    "    for i in range(m):\n",
    "        derivation = 0\n",
    "        for j in range(n + 1):\n",
    "            if j == 0:\n",
    "                derivation += theta[j]\n",
    "            else:\n",
    "                derivation += (theta[j] * x[i][j - 1])\n",
    "\n",
    "        derivation = (derivation - y[i])\n",
    "\n",
    "        for j in range(n + 1):\n",
    "            if j == 0:\n",
    "                temp[j] += derivation\n",
    "            else:\n",
    "                temp[j] += (derivation * x[i][j - 1])\n",
    "\n",
    "    temp = alpha * temp / m\n",
    "    theta -= temp\n",
    "\n",
    "    return theta"
   ]
  },
  {
   "cell_type": "code",
   "execution_count": 156,
   "metadata": {},
   "outputs": [],
   "source": [
    "# theta = parameters, aplha = learning rate, iterations = num of gradient descent cycles, m = num of training examples, n = num of features\n",
    "theta = []\n",
    "alpha = 0.3\n",
    "iterations = 75\n",
    "m = len(y_train)\n",
    "n = 13 - len(lessCorrelated_features)\n",
    "\n",
    "# initializing the parameters with random values\n",
    "for _ in range(n + 1):\n",
    "    theta.append(random.random())\n",
    "\n",
    "# adjusting the parameters using gradient descent\n",
    "for _ in range(iterations):\n",
    "    theta = gradient_descent(m, n, alpha, theta, x_train, y_train)"
   ]
  },
  {
   "cell_type": "code",
   "execution_count": 157,
   "metadata": {},
   "outputs": [
    {
     "name": "stdout",
     "output_type": "stream",
     "text": [
      "Training Error: 0.13457170907827112\n",
      "Validation Error: 0.14045900860290514\n"
     ]
    }
   ],
   "source": [
    "print(\"Training Error:\", error(len(y_train), n, theta, x_train, y_train))\n",
    "print(\"Validation Error:\", error(len(y_test), n, theta, x_test, y_test))"
   ]
  },
  {
   "cell_type": "code",
   "execution_count": 158,
   "metadata": {},
   "outputs": [
    {
     "data": {
      "text/plain": [
       "<matplotlib.collections.PathCollection at 0x1eb28734a60>"
      ]
     },
     "execution_count": 158,
     "metadata": {},
     "output_type": "execute_result"
    },
    {
     "data": {
      "image/png": "[encoded data removed]",
      "text/plain": [
       "<Figure size 432x288 with 2 Axes>"
      ]
     },
     "metadata": {
      "needs_background": "light"
     },
     "output_type": "display_data"
    }
   ],
   "source": [
    "# Comparing the perfromance of the trained hypothesis with sklearn's linear regression model\n",
    "from sklearn.linear_model import LinearRegression\n",
    "model = LinearRegression()\n",
    "model.fit(x_train, y_train)\n",
    "\n",
    "prices_hypothesis = []\n",
    "prices_sklearn = []\n",
    "\n",
    "for i in range(len(y_test)):\n",
    "    price = 0\n",
    "    for j in range(n + 1):\n",
    "        if j == 0:\n",
    "            price += theta[j]\n",
    "        else:\n",
    "            price += (theta[j] * x_test[i][j - 1])\n",
    "    \n",
    "    prices_hypothesis.append(price)\n",
    "    prices_sklearn.append(model.predict((x_test[i]).reshape(1, -1)))\n",
    "\n",
    "# plotting the graph of the hypothesis vs sklearn's linear regression model\n",
    "fig = plt.figure()\n",
    "ax1 = fig.add_subplot(121)\n",
    "ax2 = fig.add_subplot(122)\n",
    "\n",
    "ax1.scatter(y_test, prices_hypothesis, color = 'blue')\n",
    "ax1.scatter(y_test, y_test, color = 'green')\n",
    "\n",
    "ax2.scatter(y_test, prices_sklearn, color = 'red')\n",
    "ax2.scatter(y_test, y_test, color = 'green')"
   ]
  }
 ],
 "metadata": {
  "interpreter": {
   "hash": "c2f2c10e8b0c6806d9d04e8d3a17761b4c554a55a9bbe8b591472136559041bf"
  },
  "kernelspec": {
   "display_name": "Python 3.9.8 64-bit",
   "language": "python",
   "name": "python3"
  },
  "language_info": {
   "codemirror_mode": {
    "name": "ipython",
    "version": 3
   },
   "file_extension": ".py",
   "mimetype": "text/x-python",
   "name": "python",
   "nbconvert_exporter": "python",
   "pygments_lexer": "ipython3",
   "version": "3.9.8"
  },
  "orig_nbformat": 4
 },
 "nbformat": 4,
 "nbformat_minor": 2
}
